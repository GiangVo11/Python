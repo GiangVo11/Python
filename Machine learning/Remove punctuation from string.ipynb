{
 "cells": [
  {
   "cell_type": "markdown",
   "metadata": {},
   "source": [
    "### Remove punctuation from string\n",
    " Made by Giang "
   ]
  },
  {
   "cell_type": "markdown",
   "metadata": {},
   "source": [
    "### Option 1 Regular expression"
   ]
  },
  {
   "cell_type": "code",
   "execution_count": 18,
   "metadata": {},
   "outputs": [
    {
     "data": {
      "text/plain": [
       "'string with punctuation inside of it Does this work I hope so'"
      ]
     },
     "execution_count": 18,
     "metadata": {},
     "output_type": "execute_result"
    }
   ],
   "source": [
    "#Option 1 \n",
    "import re\n",
    "s = 'string with \"punctuation\" inside of it! Does this work? I hope so.'\n",
    "fline = re.sub('['+string.punctuation+']', '', s)\n",
    "fline"
   ]
  },
  {
   "cell_type": "markdown",
   "metadata": {},
   "source": [
    "###  Option 2 : string.maketrans() + translate()\n",
    "- Python provides a constant called string.punctuation that provides a great list of punctuation characters. For example:\n",
    "print(string.punctuation)\n",
    "!\"#$%&'()*+,-./:;<=>?@[\\]^_`{|}~\n",
    "- Python offers a function called translate() that will map one set of characters to another.\n",
    "\n",
    "- We can use the function maketrans() to create a mapping table. We can create an empty mapping table, but the third argument of this function allows us to list all of the characters to remove during the translation process. For example:\n",
    "\n",
    "table = str.maketrans('', '', string.punctuation)\n",
    "\n",
    "We can put all of this together, load the text file, split it into words by white space, then translate each word to remove the punctuation."
   ]
  },
  {
   "cell_type": "code",
   "execution_count": 22,
   "metadata": {},
   "outputs": [
    {
     "name": "stdout",
     "output_type": "stream",
     "text": [
      "string with punctuation inside of it Does this work I hope so\n"
     ]
    }
   ],
   "source": [
    "# Option 2.1\n",
    "import string\n",
    "def remove_punctuation(x):\n",
    "    table = str.maketrans({key: None for key in string.punctuation})\n",
    "    return x.translate(table)\n",
    "s = 'string with \"punctuation\" inside of it! Does this work? I hope so.'\n",
    "print(remove_punctuation(s))"
   ]
  },
  {
   "cell_type": "code",
   "execution_count": 25,
   "metadata": {},
   "outputs": [
    {
     "name": "stdout",
     "output_type": "stream",
     "text": [
      "string with punctuation inside of it Does this work I hope so\n"
     ]
    }
   ],
   "source": [
    "# or Option 2.2 \n",
    "def remove_punctuation1(x):\n",
    "    table = str.maketrans('','', string.punctuation)\n",
    "    return x.translate(table)\n",
    "print(remove_punctuation1(s))"
   ]
  },
  {
   "cell_type": "code",
   "execution_count": 29,
   "metadata": {},
   "outputs": [
    {
     "name": "stdout",
     "output_type": "stream",
     "text": [
      "string with \"punctuation\" inside of it! Does this work? I hope so.\n"
     ]
    }
   ],
   "source": [
    "# Option 2.3\n",
    "import string\n",
    "table = str.maketrans('', '', string.punctuation)\n",
    "stripped = [w.translate(table) for w in s]\n",
    "print(s)"
   ]
  },
  {
   "cell_type": "markdown",
   "metadata": {},
   "source": [
    "### The str.maketrans() \n",
    "This method returns a mapping table for translation usable for translate() method.The syntax of maketrans() method is: \n",
    "####  string.maketrans(x[, y[, z]])  \n",
    "\n",
    "The maketrans() method takes 3 parameters:\n",
    "- x - If only one argument is supplied, it must be a dictionary.\n",
    "The dictionary should contain 1-to-1 mapping from a single character string to its translation OR a unicode number (97 for 'a') to its translation.\n",
    "\n",
    "- y - If two arguments are passed, it must be two strings with equal length.\n",
    "Each character in the first string is a replacement to its corresponding index in the second string.\n",
    "\n",
    "- z - If three arguments are passed, each character in the third argument is mapped to None.\n",
    "\n",
    "  Here, y and z are optional arguments.\n",
    "    "
   ]
  },
  {
   "cell_type": "code",
   "execution_count": 21,
   "metadata": {},
   "outputs": [
    {
     "name": "stdout",
     "output_type": "stream",
     "text": [
      "{97: '123', 98: '456', 99: '789'}\n",
      "{97: '123', 98: '456', 99: '789'}\n"
     ]
    }
   ],
   "source": [
    "# https://www.programiz.com/python-programming/methods/string/maketrans\n",
    "#Example1\n",
    "dict = {\"a\": \"123\", \"b\": \"456\", \"c\": \"789\"}\n",
    "string = \"abc\"\n",
    "print(string.maketrans(dict))\n",
    "#Example 2\n",
    "dict = {97: \"123\", 98: \"456\", 99: \"789\"}\n",
    "string = \"abc\"\n",
    "print(string.maketrans(dict))\n"
   ]
  },
  {
   "cell_type": "markdown",
   "metadata": {},
   "source": [
    "Here, a dictionary dict is defined. It contains a mapping of characters a,b and c to 123, 456 and 789 respectively.\n",
    "\n",
    "maketrans() creates a mapping of the character's Unicode ordinal to its corresponding translation.\n",
    "\n",
    "So, 97 ('a') is mapped to '123', 98 'b' to 456 and 99 'c' to 789. This can be demonstrated from the output of both dictionaries.\n"
   ]
  },
  {
   "cell_type": "code",
   "execution_count": 20,
   "metadata": {},
   "outputs": [
    {
     "name": "stdout",
     "output_type": "stream",
     "text": [
      "{97: 100, 98: 101, 99: 102}\n"
     ]
    }
   ],
   "source": [
    "# Example 2 : Translation table using two strings with maketrans()\n",
    "# first string\n",
    "firstString = \"abc\"\n",
    "secondString = \"def\"\n",
    "string = \"abc\"\n",
    "print(string.maketrans(firstString, secondString))\n",
    "\n"
   ]
  },
  {
   "cell_type": "markdown",
   "metadata": {},
   "source": [
    "Here first, two strings of equal length \"abc\" and \"def\" are defined. And the corresponding translation is created.\n",
    "\n",
    "Printing only the first translation gives you a 1-to-1 mapping to each character's Unicode ordinal in firstString to the same indexed character on the secondString.\n",
    "\n",
    "In this case, 97 ('a') is mapped to 100 ('d'), 98 ('b') to 101 ('e') and 99 ('c') to 102 ('f')."
   ]
  },
  {
   "cell_type": "code",
   "execution_count": 13,
   "metadata": {},
   "outputs": [
    {
     "ename": "ValueError",
     "evalue": "the first two maketrans arguments must have equal length",
     "output_type": "error",
     "traceback": [
      "\u001b[1;31m---------------------------------------------------------------------------\u001b[0m",
      "\u001b[1;31mValueError\u001b[0m                                Traceback (most recent call last)",
      "\u001b[1;32m<ipython-input-13-2022f26b7028>\u001b[0m in \u001b[0;36m<module>\u001b[1;34m()\u001b[0m\n\u001b[0;32m      3\u001b[0m \u001b[0msecondString\u001b[0m \u001b[1;33m=\u001b[0m \u001b[1;34m\"defghi\"\u001b[0m\u001b[1;33m\u001b[0m\u001b[0m\n\u001b[0;32m      4\u001b[0m \u001b[0mstring\u001b[0m \u001b[1;33m=\u001b[0m \u001b[1;34m\"abc\"\u001b[0m\u001b[1;33m\u001b[0m\u001b[0m\n\u001b[1;32m----> 5\u001b[1;33m \u001b[0mprint\u001b[0m\u001b[1;33m(\u001b[0m\u001b[0mstring\u001b[0m\u001b[1;33m.\u001b[0m\u001b[0mmaketrans\u001b[0m\u001b[1;33m(\u001b[0m\u001b[0mfirstString\u001b[0m\u001b[1;33m,\u001b[0m \u001b[0msecondString\u001b[0m\u001b[1;33m)\u001b[0m\u001b[1;33m)\u001b[0m\u001b[1;33m\u001b[0m\u001b[0m\n\u001b[0m",
      "\u001b[1;31mValueError\u001b[0m: the first two maketrans arguments must have equal length"
     ]
    }
   ],
   "source": [
    "# Example 2 Continue : example dictionary\n",
    "firstString = \"abc\"\n",
    "secondString = \"defghi\"\n",
    "string = \"abc\"\n",
    "print(string.maketrans(firstString, secondString))"
   ]
  },
  {
   "cell_type": "markdown",
   "metadata": {},
   "source": [
    "Trying to create a translation table for unequal length strings raises a ValueError exception indicating that the strings must have equal length."
   ]
  },
  {
   "cell_type": "code",
   "execution_count": 10,
   "metadata": {
    "scrolled": true
   },
   "outputs": [
    {
     "name": "stdout",
     "output_type": "stream",
     "text": [
      "{97: None, 98: None, 99: 102, 100: None}\n"
     ]
    }
   ],
   "source": [
    "# Example 3 : Translational table with removable string with maketrans()\n",
    "\n",
    "firstString = \"abc\"\n",
    "secondString = \"def\"\n",
    "thirdString = \"abd\"\n",
    "string = \"abc\"\n",
    "print(string.maketrans(firstString, secondString, thirdString))"
   ]
  },
  {
   "cell_type": "markdown",
   "metadata": {},
   "source": [
    "Here, first the mapping between the two strings firstString and secondString are created.\n",
    "\n",
    "Then, the third argument thirdString resets the mapping of each character in it to None and also creates new mapping for non-existent characters.\n",
    "\n",
    "In this case, thirdString resets the mapping of 97 ('a') and 98 ('b') to None, and also creates a new mapping for 100 ('d') mapped to None."
   ]
  },
  {
   "cell_type": "markdown",
   "metadata": {},
   "source": [
    "### The str.translate() method\n",
    "returns a string where each character is mapped to its corresponding character as per the translation table."
   ]
  },
  {
   "cell_type": "code",
   "execution_count": 1,
   "metadata": {},
   "outputs": [
    {
     "name": "stdout",
     "output_type": "stream",
     "text": [
      "Original string: abcdef\n",
      "Translated string: idef\n"
     ]
    }
   ],
   "source": [
    "# first string\n",
    "firstString = \"abc\"\n",
    "secondString = \"ghi\"\n",
    "thirdString = \"ab\"\n",
    "\n",
    "string = \"abcdef\"\n",
    "print(\"Original string:\", string)\n",
    "\n",
    "translation = string.maketrans(firstString, secondString, thirdString)\n",
    "\n",
    "# translate string\n",
    "print(\"Translated string:\", string.translate(translation))"
   ]
  },
  {
   "cell_type": "markdown",
   "metadata": {},
   "source": [
    "Here, the translation mapping translation contains the mapping from a, b and c to g, h and i respectively.\n",
    "\n",
    "But, the removal string thirdString resets the mapping to a and b to None.\n",
    "\n",
    "So, when the string is translated using translate(), a and b are removed, and c is replaced i outputting idef."
   ]
  },
  {
   "cell_type": "code",
   "execution_count": 2,
   "metadata": {},
   "outputs": [
    {
     "name": "stdout",
     "output_type": "stream",
     "text": [
      "Original string: abcdef\n",
      "Translated string: idef\n"
     ]
    }
   ],
   "source": [
    "# translation table - a dictionary\n",
    "translation = {97: None, 98: None, 99: 105}\n",
    "\n",
    "string = \"abcdef\"\n",
    "print(\"Original string:\", string)\n",
    "\n",
    "# translate string\n",
    "print(\"Translated string:\", string.translate(translation))"
   ]
  },
  {
   "cell_type": "markdown",
   "metadata": {},
   "source": [
    "Here, we don't create a translation table from maketrans() but, we manually create the mapping dictionary translation.\n",
    "\n",
    "This translation is then used to translate the string string to get the same output as the previous example."
   ]
  },
  {
   "cell_type": "code",
   "execution_count": 27,
   "metadata": {},
   "outputs": [
    {
     "name": "stdout",
     "output_type": "stream",
     "text": [
      "The cows 1nd the c1t 1re 3ute\n"
     ]
    }
   ],
   "source": [
    "firstString = \"agk\"\n",
    "secondString = \"123\"\n",
    "x= str.maketrans(firstString, secondString)\n",
    "x\n",
    "s= 'The cows and the cat are kute'\n",
    "print(s.translate(x))"
   ]
  },
  {
   "cell_type": "code",
   "execution_count": 31,
   "metadata": {},
   "outputs": [
    {
     "name": "stdout",
     "output_type": "stream",
     "text": [
      "The 3ows 1nd the 31t 1re kute\n"
     ]
    }
   ],
   "source": [
    "import string\n",
    "s= 'The cows and the cat are kute&^^&$#@'\n",
    "x=str.maketrans('abc','123',string.punctuation)\n",
    "print(s.translate(x))"
   ]
  },
  {
   "cell_type": "code",
   "execution_count": null,
   "metadata": {},
   "outputs": [],
   "source": [
    "#Old version"
   ]
  },
  {
   "cell_type": "markdown",
   "metadata": {},
   "source": [
    "####  An easier way to understand:\n",
    " the syntax for maketrans() method −\n",
    "\n",
    "#### str.maketrans(intab, outtab)\n",
    "\n",
    "Parameters\n",
    "intab − This is the string having actual characters.\n",
    "\n",
    "outtab − This is the string having corresponding mapping character.\n",
    "\n",
    "Return Value\n",
    "This method returns a translate table to be used translate() function."
   ]
  },
  {
   "cell_type": "markdown",
   "metadata": {},
   "source": [
    "#### Str.translate()\n",
    "It returns a copy of the string in which all characters have been translated using table (constructed with the maketrans() function in the string module), optionally deleting all characters found in the string deletechars.\n",
    "\n",
    "Following is the syntax for translate() method −\n",
    "\n",
    "#### str.translate(table[, deletechars]);\n",
    "\n",
    "Parameters\n",
    "\n",
    "table − You can use the maketrans() helper function in the string module to create a translation table.\n",
    "\n",
    "deletechars − The list of characters to be removed from the source string."
   ]
  },
  {
   "cell_type": "code",
   "execution_count": 8,
   "metadata": {},
   "outputs": [
    {
     "name": "stdout",
     "output_type": "stream",
     "text": [
      "th3s 3s str3ng 2x1mpl2....w4w!!!\n"
     ]
    }
   ],
   "source": [
    "intab = \"aeiou\"\n",
    "outtab = \"12345\"\n",
    "trantab = str.maketrans(intab, outtab)\n",
    "\n",
    "str = \"this is string example....wow!!!\"\n",
    "print (str.translate(trantab))\n",
    "#Under this, every vowel in a string is replaced by its vowel position −"
   ]
  },
  {
   "cell_type": "code",
   "execution_count": 18,
   "metadata": {},
   "outputs": [
    {
     "name": "stdout",
     "output_type": "stream",
     "text": [
      "th3s 3s str3ng 21pl2....w4w!!!\n"
     ]
    }
   ],
   "source": [
    " # Required to call maketrans function.\n",
    "\n",
    "intab = \"aeiou\"\n",
    "outtab = \"12345\"\n",
    "trantab = str. maketrans(intab, outtab,'xm')\n",
    "\n",
    "str = \"this is string example....wow!!!\";\n",
    "print (str.translate(trantab))\n",
    "#Following is the example to delete 'x' and 'm' characters from the string −"
   ]
  },
  {
   "cell_type": "code",
   "execution_count": null,
   "metadata": {},
   "outputs": [],
   "source": []
  }
 ],
 "metadata": {
  "kernelspec": {
   "display_name": "Python 3",
   "language": "python",
   "name": "python3"
  },
  "language_info": {
   "codemirror_mode": {
    "name": "ipython",
    "version": 3
   },
   "file_extension": ".py",
   "mimetype": "text/x-python",
   "name": "python",
   "nbconvert_exporter": "python",
   "pygments_lexer": "ipython3",
   "version": "3.5.5"
  },
  "widgets": {
   "state": {},
   "version": "1.1.2"
  }
 },
 "nbformat": 4,
 "nbformat_minor": 2
}
